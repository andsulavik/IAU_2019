{
 "cells": [
  {
   "cell_type": "markdown",
   "metadata": {},
   "source": [
    "<h1>2. fáza - predspracovanie dát</h1>"
   ]
  },
  {
   "cell_type": "code",
   "execution_count": null,
   "metadata": {},
   "outputs": [],
   "source": [
    "%matplotlib inline\n",
    "import pandas as pd\n",
    "import numpy as np\n",
    "import matplotlib.pyplot as plt\n",
    "import seaborn as sns\n",
    "import scipy.stats as stats\n",
    "\n",
    "import re"
   ]
  },
  {
   "cell_type": "code",
   "execution_count": null,
   "metadata": {},
   "outputs": [],
   "source": [
    "def splitPersonalInfo(dataO):\n",
    "    temp = dataO['personal_info'].str.split(\"\\r\\r\\n|--|\\\\|\", expand = True)\n",
    "    dataO['ethn'] = temp[0]\n",
    "    dataO['state'] = temp[1]\n",
    "    dataO['edu'] = temp[2]\n",
    "    dataO['status'] = temp[3]\n",
    "    dataO['fam_memb'] = temp[4] \n",
    "    dataO.drop(['personal_info'], axis = 1, inplace = True)"
   ]
  },
  {
   "cell_type": "code",
   "execution_count": null,
   "metadata": {},
   "outputs": [],
   "source": [
    "def fusionDuplicates(datasetO):\n",
    "    duplicat = datasetO[datasetO['name'].duplicated(keep=False)]\n",
    "    duplicat = duplicat.sort_values('name')\n",
    "    duplicat = duplicat.reset_index(drop=True)\n",
    "    \n",
    "    for i, row in duplicat.iterrows():\n",
    "        if(i%2==1):\n",
    "            duplicat = duplicat.drop(i)\n",
    "            continue\n",
    "        for j, value in row.items():\n",
    "            dupValue = duplicat.loc[i+1,j]\n",
    "            if(pd.isna(value)):\n",
    "                duplicat.loc[i,j]=dupValue\n",
    "    datasetO.drop_duplicates(subset='name',keep=False,inplace=True)\n",
    "    result = datasetO.append(duplicat, ignore_index=True)\n",
    "    return(result)"
   ]
  },
  {
   "cell_type": "code",
   "execution_count": null,
   "metadata": {},
   "outputs": [],
   "source": [
    "def correctValuesO(dataset):\n",
    "    for col in dataset.columns:\n",
    "        if(dataset[col].dtype != np.object):\n",
    "           continue\n",
    "        dataset[col] = dataset[col].str.replace('_','-')\n",
    "        dataset[col] = dataset[col].replace(to_replace = r'.*\\?.*', value = np.nan, regex = True)\n",
    "        dataset[col] = dataset[col].replace(to_replace = r'^[Nn][Aa][Nn]$', value = np.nan, regex = True)\n",
    "        if(col=='pregnant'):\n",
    "            dataset[col] = dataset[col].replace(['T','F'], ['t', 'f'])\n",
    "            dataset[col] = dataset[col].replace(to_replace = r'[Tt][Rr][Uu][Ee]', value = 't', regex = True)\n",
    "            dataset[col] = dataset[col].replace(to_replace = r'[Ff][Aa][Ll][Ss][Ee]', value = 'f', regex = True)\n",
    "\n",
    "def correctDates(series):\n",
    "    s = series.str.split(\"-\", expand = True)\n",
    "    x = 0\n",
    "    while(x<len(series)):\n",
    "#        print(str(x)+\" \"+s.iloc[x])\n",
    "        if(re.match(r'^[0-9][0-9]-[0-9][0-9]-[0-9][0-9]$', series.loc[x])):\n",
    "            if(s.iloc[x][0][:1]=='0'):\n",
    "                series.loc[x] = \"20\"+s.iloc[x][0]+\"-\"+s.iloc[x][1]+\"-\"+s.iloc[x][2][0:2]\n",
    "            else:\n",
    "                series.loc[x] = \"19\"+s.iloc[x][0]+\"-\"+s.iloc[x][1]+\"-\"+s.iloc[x][2][0:2]\n",
    "#            x += 1\n",
    "#            continue\n",
    "         #if(len(s.iloc[x][2])>2):\n",
    "         #   series.loc[x] = s.iloc[x][0]+\"-\"+s.iloc[x][1]+\"-\"+s.iloc[x][2][:2]\n",
    "        if(re.match(r'^[0-9][0-9]-[0-9][0-9]-[0-9][0-9][0-9][0-9]$', series.loc[x])):\n",
    "            y = s.iloc[x][0]\n",
    "            s.iloc[x][0] = s.iloc[x][2]\n",
    "            s.iloc[x][2] = y\n",
    "            series.loc[x] = s.iloc[x][0]+\"-\"+s.iloc[x][1]+\"-\"+s.iloc[x][2][0:2]\n",
    "        if(len(series.loc[x])>10):\n",
    "            series.loc[x] = series.loc[x][0:10]\n",
    "        x += 1\n",
    "        \n",
    "def correctValuesP(dataset):\n",
    "    for col in dataset.columns:\n",
    "        if(dataset[col].dtype != np.object):\n",
    "           continue\n",
    "        dataset[col] = dataset[col].str.replace('/','-')    \n",
    "    correctDates(dataset[\"date_of_birth\"])\n",
    "        "
   ]
  },
  {
   "cell_type": "code",
   "execution_count": null,
   "metadata": {},
   "outputs": [],
   "source": [
    "\n",
    "def fusionDatasets(dataset1, dataset2):\n",
    "    newDS = dataset1.merge(dataset2, on='name')\n",
    "    newDS = newDS.drop(columns=['name', 'address_x', 'address_y'])\n",
    "    return newDS"
   ]
  },
  {
   "cell_type": "code",
   "execution_count": null,
   "metadata": {},
   "outputs": [],
   "source": [
    "def correctAge(dataF):\n",
    "    x = 0\n",
    "    for x in range(len(dataF)):\n",
    "        print(x)\n",
    "        s = dataF['date_of_birth'].iloc[x].split('-', 2)\n",
    "        year = s[0]\n",
    "        #116 najstarsi clovek v sucastnosti\n",
    "        if(dataF['age'].iloc[x]>116):\n",
    "            age = dataF['age'].iloc[x]/100\n",
    "            if((2019-int(age) == int(year) or (2019-int(age) == int(year)+1))):\n",
    "               dataF['age'].iloc[x] =  int(age);\n",
    "               continue\n",
    "            else:\n",
    "                print(\"ERROR  \"+str(age)+\"  \"+str(int(year)))\n",
    "        elif(dataF['age'].iloc[x]<-116):\n",
    "            age = dataF['age'].iloc[x]/(-100)\n",
    "            if(2019-int(age) == int(year) or 2019-int(age) == int(year)+1):\n",
    "               dataF['age'].iloc[x] =  int(age);\n",
    "               continue\n",
    "            else:\n",
    "                print(\"ERROR  \"+str(age)+\"  \"+str(int(year)))\n",
    "        else:\n",
    "            age = 2019 - int(year)\n",
    "            if(age<=0):\n",
    "                dataF['age'].iloc[x] = np.nan\n",
    "            else:\n",
    "                dataF['age'].iloc[x] =  int(age);\n",
    "            "
   ]
  },
  {
   "cell_type": "code",
   "execution_count": null,
   "metadata": {},
   "outputs": [],
   "source": [
    "percentil5 = []\n",
    "percentil95 = []"
   ]
  },
  {
   "cell_type": "code",
   "execution_count": null,
   "metadata": {},
   "outputs": [],
   "source": [
    "def detectReplaceOutliers(dataF):\n",
    "    for col in dataF.columns:\n",
    "        if(dataF[col].dtype == np.object):\n",
    "           continue\n",
    "        if(col == 'capital-loss' or col == 'capital-gain' or col == 'age'):\n",
    "           continue\n",
    "        percentil5.append(dataF[col].quantile(0.05))\n",
    "        percentil95.append(dataF[col].quantile(0.95))\n",
    "        p5 = percentil5[-1]\n",
    "        p95 = percentil95[-1]\n",
    "        print(p5)\n",
    "        print(p95)\n",
    "        dataF.loc[:,col] = dataF[col].apply(lambda x: p5 if x<p5 else x)\n",
    "        dataF.loc[:,col] = dataF[col].apply(lambda x: p95 if x>p95 else x)"
   ]
  },
  {
   "cell_type": "code",
   "execution_count": null,
   "metadata": {},
   "outputs": [],
   "source": [
    "dataP = pd.read_csv(\"personal_train.csv\", index_col=0)\n",
    "dataO = pd.read_csv(\"other_train.csv\", index_col=0)"
   ]
  },
  {
   "cell_type": "code",
   "execution_count": null,
   "metadata": {},
   "outputs": [],
   "source": [
    "splitPersonalInfo(dataO)"
   ]
  },
  {
   "cell_type": "code",
   "execution_count": null,
   "metadata": {},
   "outputs": [],
   "source": [
    "dataP.info()"
   ]
  },
  {
   "cell_type": "code",
   "execution_count": null,
   "metadata": {},
   "outputs": [],
   "source": [
    "dataO.info()"
   ]
  },
  {
   "cell_type": "code",
   "execution_count": null,
   "metadata": {},
   "outputs": [],
   "source": [
    "len(dataO.name.unique())"
   ]
  },
  {
   "cell_type": "code",
   "execution_count": null,
   "metadata": {},
   "outputs": [],
   "source": [
    "namesO = dataO[\"name\"].unique().sort()"
   ]
  },
  {
   "cell_type": "code",
   "execution_count": null,
   "metadata": {},
   "outputs": [],
   "source": [
    "namesP = dataP[\"name\"].unique().sort()"
   ]
  },
  {
   "cell_type": "code",
   "execution_count": null,
   "metadata": {},
   "outputs": [],
   "source": [
    "np.array_equal(namesO, namesP)"
   ]
  },
  {
   "cell_type": "code",
   "execution_count": null,
   "metadata": {
    "scrolled": true
   },
   "outputs": [],
   "source": [
    "dataO.head()"
   ]
  },
  {
   "cell_type": "code",
   "execution_count": null,
   "metadata": {},
   "outputs": [],
   "source": [
    "duplNames = dataO[dataO['name'].duplicated(keep=False)]\n",
    "duplNames.sort_values('name')"
   ]
  },
  {
   "cell_type": "markdown",
   "metadata": {},
   "source": [
    "Po vypísani duplicitných mien sme zistili, že zlúčením týchto duplikátov vieme vyplniť chýbajúce hodnoty. Zároveň hodnoty, ktoré majú oba duplikáty sú rovnaké. "
   ]
  },
  {
   "cell_type": "code",
   "execution_count": null,
   "metadata": {
    "scrolled": true
   },
   "outputs": [],
   "source": [
    "dataO=fusionDuplicates(dataO)\n",
    "dataO"
   ]
  },
  {
   "cell_type": "code",
   "execution_count": null,
   "metadata": {
    "scrolled": false
   },
   "outputs": [],
   "source": [
    "dataO.info()"
   ]
  },
  {
   "cell_type": "code",
   "execution_count": null,
   "metadata": {},
   "outputs": [],
   "source": [
    "replaced = dataO.replace(to_replace=r'^[0-9,\\-].*[0-9]$',value='number',regex=True)\n",
    "replaced.select_dtypes(include='object')"
   ]
  },
  {
   "cell_type": "code",
   "execution_count": null,
   "metadata": {},
   "outputs": [],
   "source": [
    "replaced['kurtosis_oxygen'].unique()"
   ]
  },
  {
   "cell_type": "code",
   "execution_count": null,
   "metadata": {},
   "outputs": [],
   "source": [
    "replaced['occupation'].unique()"
   ]
  },
  {
   "cell_type": "code",
   "execution_count": null,
   "metadata": {},
   "outputs": [],
   "source": [
    "replaced['pregnant'].unique()"
   ]
  },
  {
   "cell_type": "code",
   "execution_count": null,
   "metadata": {},
   "outputs": [],
   "source": [
    "replaced['education-num'].unique()"
   ]
  },
  {
   "cell_type": "code",
   "execution_count": null,
   "metadata": {},
   "outputs": [],
   "source": [
    "replaced['edu'].unique()"
   ]
  },
  {
   "cell_type": "code",
   "execution_count": null,
   "metadata": {},
   "outputs": [],
   "source": [
    "replaced['income'].unique()"
   ]
  },
  {
   "cell_type": "code",
   "execution_count": null,
   "metadata": {},
   "outputs": [],
   "source": [
    "replaced['workclass'].unique()"
   ]
  },
  {
   "cell_type": "code",
   "execution_count": null,
   "metadata": {},
   "outputs": [],
   "source": [
    "replaced['ethn'].unique()"
   ]
  },
  {
   "cell_type": "code",
   "execution_count": null,
   "metadata": {},
   "outputs": [],
   "source": [
    "replaced['state'].unique()"
   ]
  },
  {
   "cell_type": "code",
   "execution_count": null,
   "metadata": {},
   "outputs": [],
   "source": [
    "replaced['status'].unique()"
   ]
  },
  {
   "cell_type": "code",
   "execution_count": null,
   "metadata": {},
   "outputs": [],
   "source": [
    "replaced['fam_memb'].unique()"
   ]
  },
  {
   "cell_type": "code",
   "execution_count": null,
   "metadata": {},
   "outputs": [],
   "source": [
    "correctValuesO(dataO)"
   ]
  },
  {
   "cell_type": "code",
   "execution_count": null,
   "metadata": {},
   "outputs": [],
   "source": [
    "dataO.info()"
   ]
  },
  {
   "cell_type": "code",
   "execution_count": null,
   "metadata": {},
   "outputs": [],
   "source": [
    "dataO['pregnant'].unique()"
   ]
  },
  {
   "cell_type": "code",
   "execution_count": null,
   "metadata": {},
   "outputs": [],
   "source": [
    "replaced = dataP.replace(to_replace = r'[0-9]', value = 'x', regex = True)"
   ]
  },
  {
   "cell_type": "code",
   "execution_count": null,
   "metadata": {
    "scrolled": true
   },
   "outputs": [],
   "source": [
    "replaced[\"date_of_birth\"].unique()"
   ]
  },
  {
   "cell_type": "markdown",
   "metadata": {},
   "source": [
    "xx/xx/xxxx --> dd/mm/yyyy"
   ]
  },
  {
   "cell_type": "code",
   "execution_count": null,
   "metadata": {},
   "outputs": [],
   "source": [
    "date = dataP[\"date_of_birth\"][dataP[\"date_of_birth\"].str.match(r'[0-9][0-9]/[0-9][0-9]/[0-9][0-9][0-9][0-9]')].sort_values(ascending=False).str.split(\"/\", 3, expand = True)"
   ]
  },
  {
   "cell_type": "code",
   "execution_count": null,
   "metadata": {},
   "outputs": [],
   "source": [
    "date.max()"
   ]
  },
  {
   "cell_type": "markdown",
   "metadata": {},
   "source": [
    "xxxx/xx/xx --> yyyy/mm/dd"
   ]
  },
  {
   "cell_type": "code",
   "execution_count": null,
   "metadata": {},
   "outputs": [],
   "source": [
    "date = dataP[\"date_of_birth\"][dataP[\"date_of_birth\"].str.match(r'[0-9][0-9][0-9][0-9]/[0-9][0-9]/[0-9][0-9]')].sort_values(ascending=False).str.split(\"/\", 3, expand = True)"
   ]
  },
  {
   "cell_type": "code",
   "execution_count": null,
   "metadata": {},
   "outputs": [],
   "source": [
    "date.max()"
   ]
  },
  {
   "cell_type": "markdown",
   "metadata": {},
   "source": [
    "xxxx-xx-xx --> yyyy-mm-dd"
   ]
  },
  {
   "cell_type": "code",
   "execution_count": null,
   "metadata": {},
   "outputs": [],
   "source": [
    "date = dataP[\"date_of_birth\"][dataP[\"date_of_birth\"].str.match(r'[0-9][0-9][0-9][0-9]-[0-9][0-9]-[0-9][0-9]')].sort_values(ascending=False).str.split(\"-\", 3, expand = True)"
   ]
  },
  {
   "cell_type": "code",
   "execution_count": null,
   "metadata": {},
   "outputs": [],
   "source": [
    "date.max()"
   ]
  },
  {
   "cell_type": "markdown",
   "metadata": {},
   "source": [
    "xx-xx-xx --> yy-mm-dd"
   ]
  },
  {
   "cell_type": "code",
   "execution_count": null,
   "metadata": {},
   "outputs": [],
   "source": [
    "date = dataP[\"date_of_birth\"][dataP[\"date_of_birth\"].str.match(r'[0-9][0-9]-[0-9][0-9]-[0-9][0-9]')].sort_values(ascending=False).str.split(\"-\", 3, expand = True)"
   ]
  },
  {
   "cell_type": "code",
   "execution_count": null,
   "metadata": {},
   "outputs": [],
   "source": [
    "date.max()"
   ]
  },
  {
   "cell_type": "code",
   "execution_count": null,
   "metadata": {},
   "outputs": [],
   "source": [
    "date[0].unique()"
   ]
  },
  {
   "cell_type": "code",
   "execution_count": null,
   "metadata": {},
   "outputs": [],
   "source": [
    "correctValuesP(dataP)"
   ]
  },
  {
   "cell_type": "code",
   "execution_count": null,
   "metadata": {},
   "outputs": [],
   "source": [
    "replaced = dataP.replace(to_replace = r'[0-9]', value = 'x', regex = True)\n",
    "replaced['date_of_birth'].unique()"
   ]
  },
  {
   "cell_type": "code",
   "execution_count": null,
   "metadata": {},
   "outputs": [],
   "source": [
    "dataF = fusionDatasets(dataP, dataO)"
   ]
  },
  {
   "cell_type": "code",
   "execution_count": null,
   "metadata": {},
   "outputs": [],
   "source": [
    "dataF.info()"
   ]
  },
  {
   "cell_type": "code",
   "execution_count": null,
   "metadata": {},
   "outputs": [],
   "source": [
    "dataF = dataF.astype({'class':str,\"education-num\":str})\n",
    "replaced = dataF.replace(to_replace=r'^[0-9]*\\.[0-9]*$',value='number',regex=True)\n",
    "dataF.info()"
   ]
  },
  {
   "cell_type": "code",
   "execution_count": null,
   "metadata": {},
   "outputs": [],
   "source": [
    "dataF['age'].quantile(0.05)"
   ]
  },
  {
   "cell_type": "code",
   "execution_count": null,
   "metadata": {},
   "outputs": [],
   "source": [
    "correctAge(dataF)"
   ]
  },
  {
   "cell_type": "code",
   "execution_count": null,
   "metadata": {},
   "outputs": [],
   "source": [
    "dataF['age'].unique()"
   ]
  },
  {
   "cell_type": "code",
   "execution_count": null,
   "metadata": {
    "scrolled": true
   },
   "outputs": [],
   "source": [
    "replaced = dataF[['capital-gain', 'capital-loss']].replace(to_replace=[0.0,99999.0],value = np.nan)\n",
    "replaced.hist()"
   ]
  },
  {
   "cell_type": "markdown",
   "metadata": {},
   "source": [
    "Pre tieto dva stlpce nebudeme odstranovat outlierov pretoze by sme prisli o tieto namerane hodnoty. "
   ]
  },
  {
   "cell_type": "code",
   "execution_count": null,
   "metadata": {},
   "outputs": [],
   "source": [
    "detectReplaceOutliers(dataF)"
   ]
  },
  {
   "cell_type": "code",
   "execution_count": null,
   "metadata": {},
   "outputs": [],
   "source": [
    "dataF.describe()"
   ]
  },
  {
   "cell_type": "code",
   "execution_count": null,
   "metadata": {},
   "outputs": [],
   "source": []
  }
 ],
 "metadata": {
  "kernelspec": {
   "display_name": "Python 3",
   "language": "python",
   "name": "python3"
  },
  "language_info": {
   "codemirror_mode": {
    "name": "ipython",
    "version": 3
   },
   "file_extension": ".py",
   "mimetype": "text/x-python",
   "name": "python",
   "nbconvert_exporter": "python",
   "pygments_lexer": "ipython3",
   "version": "3.6.5"
  }
 },
 "nbformat": 4,
 "nbformat_minor": 2
}

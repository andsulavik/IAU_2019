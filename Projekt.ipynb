{
 "cells": [
  {
   "cell_type": "markdown",
   "metadata": {},
   "source": [
    "<h1> 1.Časť - prieskumná analýza </h1>\n",
    "\n",
    "V tejto analýze budeme pracovať s dvoma datasetmi personal kde budu osobné informácie a other, ktorý obshuje namerané hodnty pacientov z cukrovkou a bez nej táto informácia sa nachádza v stplci class."
   ]
  },
  {
   "cell_type": "code",
   "execution_count": null,
   "metadata": {},
   "outputs": [],
   "source": [
    "%matplotlib inline\n",
    "import pandas as pd\n",
    "import numpy as np\n",
    "import matplotlib.pyplot as plt\n",
    "import seaborn as sns\n",
    "import scipy.stats as stats\n"
   ]
  },
  {
   "cell_type": "code",
   "execution_count": null,
   "metadata": {},
   "outputs": [],
   "source": [
    "dataP = pd.read_csv(\"personal_train.csv\", index_col=0)\n",
    "dataP.info()"
   ]
  },
  {
   "cell_type": "markdown",
   "metadata": {},
   "source": [
    "V datasete personal máme 5 atributov ako môzeme vidieť po príkaze info. Z toho jeden čiselný a 4 kategorické."
   ]
  },
  {
   "cell_type": "code",
   "execution_count": null,
   "metadata": {},
   "outputs": [],
   "source": [
    "dataO = pd.read_csv(\"other_train.csv\", index_col=0) #, na_values =[\"??\"]\n",
    "dataO.info()"
   ]
  },
  {
   "cell_type": "markdown",
   "metadata": {},
   "source": [
    "V datasete other máme 21 atributov. Z toho 14 čiselných a 7 kategorických.\n",
    "V tomto datasete sa už nachádzajú aj nulové hodnoty, keďže počet hodnôt v jednotlivých atribútoch sa líši. Spustením príkazu v nasledujúcej bunke zistíme koľko udajov obsahuje nulové hodnoty.\n",
    "Tiež sme si všimli, že sa tu nachádza o 50 údajov viac v rovnakých atributoch ako v prvom datasete."
   ]
  },
  {
   "cell_type": "code",
   "execution_count": null,
   "metadata": {},
   "outputs": [],
   "source": [
    "dataO.shape[0] - dataO.dropna().shape[0]"
   ]
  },
  {
   "cell_type": "code",
   "execution_count": null,
   "metadata": {
    "scrolled": true
   },
   "outputs": [],
   "source": [
    "dataP.head() "
   ]
  },
  {
   "cell_type": "markdown",
   "metadata": {},
   "source": [
    "Z ukážky dát sme zistili, že niektoré hodnoty veku sú sabotáž ale keďže máme aj dátum tak budeme vedieť podozrivé hodnoty bez podozrivého dátumu doplniť. "
   ]
  },
  {
   "cell_type": "code",
   "execution_count": null,
   "metadata": {},
   "outputs": [],
   "source": [
    "dataO.head()"
   ]
  },
  {
   "cell_type": "markdown",
   "metadata": {},
   "source": [
    "Po vypísaní ukážky dát sme si všimli, že stĺpce education-num a class sú kategorické aj keď sú číselné. Preto zmeníme ich typ z float64 na object."
   ]
  },
  {
   "cell_type": "code",
   "execution_count": null,
   "metadata": {
    "scrolled": true
   },
   "outputs": [],
   "source": [
    "dataO = dataO.astype({'class':str,\"education-num\":str})"
   ]
  },
  {
   "cell_type": "code",
   "execution_count": null,
   "metadata": {
    "scrolled": true
   },
   "outputs": [],
   "source": [
    "dataP.describe()"
   ]
  },
  {
   "cell_type": "code",
   "execution_count": null,
   "metadata": {
    "scrolled": true
   },
   "outputs": [],
   "source": [
    "dataP.describe(exclude=np.number)"
   ]
  },
  {
   "cell_type": "markdown",
   "metadata": {},
   "source": [
    "Describe nám ukázal len to čo už vieme, že z atribútu vek bude potrebne odstraniť prípadne neskôr doplniť podľa dátumu hodnoty, ktoré sú záporné a taktiež tie, ktoré sú väčšie ako sto keďže je nepravdepodobné, že bude niekto starší. Všetky ostatné hodnoty vyzerajú bzť v poriadku. Až na dátum, ktorý je niekedý zapísaný v inom formáte, čo bude tiež neskôr potrebné upraviť na jednotný formát."
   ]
  },
  {
   "cell_type": "code",
   "execution_count": null,
   "metadata": {
    "scrolled": false
   },
   "outputs": [],
   "source": [
    "dataO.describe()"
   ]
  },
  {
   "cell_type": "markdown",
   "metadata": {},
   "source": []
  },
  {
   "cell_type": "code",
   "execution_count": null,
   "metadata": {},
   "outputs": [],
   "source": [
    "dataO.describe(exclude=np.number)"
   ]
  },
  {
   "cell_type": "code",
   "execution_count": null,
   "metadata": {},
   "outputs": [],
   "source": [
    "dataO.info()"
   ]
  },
  {
   "cell_type": "code",
   "execution_count": null,
   "metadata": {},
   "outputs": [],
   "source": [
    "dataO.median()\n",
    "#dat prec kategorické"
   ]
  },
  {
   "cell_type": "code",
   "execution_count": null,
   "metadata": {},
   "outputs": [],
   "source": [
    "dataP.plot.box()"
   ]
  },
  {
   "cell_type": "code",
   "execution_count": null,
   "metadata": {},
   "outputs": [],
   "source": [
    "dataO.plot.box()"
   ]
  },
  {
   "cell_type": "code",
   "execution_count": null,
   "metadata": {},
   "outputs": [],
   "source": [
    "dataP.age.plot.hist(bins=30)"
   ]
  },
  {
   "cell_type": "code",
   "execution_count": null,
   "metadata": {},
   "outputs": [],
   "source": [
    "dataP2 = dataP[(dataP['age']>0) & (dataP['age'] < 100)]"
   ]
  },
  {
   "cell_type": "code",
   "execution_count": null,
   "metadata": {},
   "outputs": [],
   "source": [
    "dataP2.age.plot.hist(bins=30)"
   ]
  },
  {
   "cell_type": "code",
   "execution_count": null,
   "metadata": {},
   "outputs": [],
   "source": [
    "#co vsetko histogramovat z tychto dat? treba to nejako upravovat??\n",
    "dataO.std_oxygen.plot.hist(bins=30)"
   ]
  },
  {
   "cell_type": "code",
   "execution_count": null,
   "metadata": {},
   "outputs": [],
   "source": [
    "#STATISTIKA - KATEGORICKE ATRIBUTY\n",
    "#doplnanie dat? vysoke veky ale je datum narodenia doplnit z toho???????????\n",
    "# pokial chceme spravit napr class - ma to problem s tým ze je to cislo, ako to obísť??\n",
    "dataP.sex.value_counts().plot(kind = 'pie')"
   ]
  },
  {
   "cell_type": "code",
   "execution_count": null,
   "metadata": {},
   "outputs": [],
   "source": [
    "sns.pairplot(dataO, hue = 'occupation')"
   ]
  },
  {
   "cell_type": "code",
   "execution_count": null,
   "metadata": {},
   "outputs": [],
   "source": [
    "dataO.corr()"
   ]
  },
  {
   "cell_type": "code",
   "execution_count": null,
   "metadata": {},
   "outputs": [],
   "source": []
  }
 ],
 "metadata": {
  "kernelspec": {
   "display_name": "Python 3",
   "language": "python",
   "name": "python3"
  },
  "language_info": {
   "codemirror_mode": {
    "name": "ipython",
    "version": 3
   },
   "file_extension": ".py",
   "mimetype": "text/x-python",
   "name": "python",
   "nbconvert_exporter": "python",
   "pygments_lexer": "ipython3",
   "version": "3.6.5"
  }
 },
 "nbformat": 4,
 "nbformat_minor": 2
}

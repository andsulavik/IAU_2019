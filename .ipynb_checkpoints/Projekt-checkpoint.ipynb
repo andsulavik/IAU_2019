{
 "cells": [
  {
   "cell_type": "markdown",
   "metadata": {},
   "source": [
    "<h1> 1.Časť - prieskumná analýza </h1>\n",
    "\n",
    "V tejto analýze budeme pracovať s dvoma datasetmi personal kde budu osobné informácie a other, ktorý obshuje namerané hodnty pacientov z cukrovkou a bez nej táto informácia sa nachádza v stplci class."
   ]
  },
  {
   "cell_type": "code",
   "execution_count": null,
   "metadata": {},
   "outputs": [],
   "source": [
    "%matplotlib inline\n",
    "import pandas as pd\n",
    "import numpy as np\n",
    "import matplotlib.pyplot as plt\n",
    "import seaborn as sns\n",
    "import scipy.stats as stats\n"
   ]
  },
  {
   "cell_type": "code",
   "execution_count": null,
   "metadata": {},
   "outputs": [],
   "source": [
    "dataP = pd.read_csv(\"personal_train.csv\", index_col=0)\n",
    "dataP.info()"
   ]
  },
  {
   "cell_type": "markdown",
   "metadata": {},
   "source": [
    "V datasete personal máme 5 atributov ako môzeme vidieť po príkaze info. Z toho jeden čiselný a 4 kategorické."
   ]
  },
  {
   "cell_type": "code",
   "execution_count": null,
   "metadata": {},
   "outputs": [],
   "source": [
    "dataO = pd.read_csv(\"other_train.csv\", index_col=0) #, na_values =[\"??\"]\n",
    "dataO.info()"
   ]
  },
  {
   "cell_type": "markdown",
   "metadata": {},
   "source": [
    "V datasete other máme 21 atributov. Z toho 14 čiselných a 7 kategorických.\n",
    "V tomto datasete sa už nachádzajú aj nulové hodnoty, keďže počet hodnôt v jednotlivých atribútoch sa líši. Spustením príkazu v nasledujúcej bunke zistíme koľko udajov obsahuje nulové hodnoty.\n",
    "Tiež sme si všimli, že sa tu nachádza o 50 údajov viac v rovnakých atributoch ako v prvom datasete."
   ]
  },
  {
   "cell_type": "code",
   "execution_count": null,
   "metadata": {},
   "outputs": [],
   "source": [
    "dataO.shape[0] - dataO.dropna().shape[0]"
   ]
  },
  {
   "cell_type": "code",
   "execution_count": null,
   "metadata": {
    "scrolled": true
   },
   "outputs": [],
   "source": [
    "dataP.head() "
   ]
  },
  {
   "cell_type": "markdown",
   "metadata": {},
   "source": [
    "Z ukážky dát sme zistili, že niektoré hodnoty veku sú sabotáž ale keďže máme aj dátum tak budeme vedieť podozrivé hodnoty bez podozrivého dátumu doplniť. "
   ]
  },
  {
   "cell_type": "code",
   "execution_count": null,
   "metadata": {},
   "outputs": [],
   "source": [
    "dataO.head()"
   ]
  },
  {
   "cell_type": "markdown",
   "metadata": {},
   "source": [
    "Po vypísaní ukážky dát sme si všimli, že stĺpce education-num a class sú kategorické aj keď sú číselné. Preto zmeníme ich typ z float64 na object.\n",
    "Všimli sme si tiež, že pri atribúte personal_info sa nachádzajú až tri údaje - rasa, národnosť, vzdelanie a rodinný stav. Tieto informácie budeme musieť rozdeliž pre ich podrobnejšiu analýzu."
   ]
  },
  {
   "cell_type": "code",
   "execution_count": null,
   "metadata": {
    "scrolled": true
   },
   "outputs": [],
   "source": [
    "temp = dataO['personal_info'].str.split(\"\\r\\r\\n|--|\\\\|\", expand = True)\n",
    "dataO['ethn'] = temp[0]\n",
    "dataO['state'] = temp[1]\n",
    "dataO['edu'] = temp[2]\n",
    "dataO['status'] = temp[3]\n",
    "dataO['fam_memb'] = temp[4] \n",
    "dataO.drop(['personal_info'], axis = 1)\n",
    "dataO.head()"
   ]
  },
  {
   "cell_type": "markdown",
   "metadata": {},
   "source": [
    "Ako sme skôr opisovali, rozhodli sme sa rozdeliť atribút personal_info na päť podatribútov."
   ]
  },
  {
   "cell_type": "code",
   "execution_count": null,
   "metadata": {
    "scrolled": true
   },
   "outputs": [],
   "source": [
    "dataO = dataO.astype({'class':str,\"education-num\":str})"
   ]
  },
  {
   "cell_type": "code",
   "execution_count": null,
   "metadata": {
    "scrolled": false
   },
   "outputs": [],
   "source": [
    "dataP.describe()"
   ]
  },
  {
   "cell_type": "code",
   "execution_count": null,
   "metadata": {
    "scrolled": true
   },
   "outputs": [],
   "source": [
    "dataP.describe(exclude=np.number)"
   ]
  },
  {
   "cell_type": "markdown",
   "metadata": {},
   "source": [
    "Describe nám ukázal len to čo už vieme, že z atribútu vek bude potrebne odstraniť prípadne neskôr doplniť podľa dátumu hodnoty, ktoré sú záporné a taktiež tie, ktoré sú väčšie ako sto keďže je nepravdepodobné, že bude niekto starší. Všetky ostatné hodnoty vyzerajú bzť v poriadku. Až na dátum, ktorý je niekedý zapísaný v inom formáte, čo bude tiež neskôr potrebné upraviť na jednotný formát."
   ]
  },
  {
   "cell_type": "code",
   "execution_count": null,
   "metadata": {
    "scrolled": false
   },
   "outputs": [],
   "source": [
    "dataO.describe()"
   ]
  },
  {
   "cell_type": "markdown",
   "metadata": {},
   "source": [
    "Decribe pre druhý dataset nám ukúzal, že niektoré namerané hodnoty môžu byť chybné nakoľko sú priveľké skoky medzi priemernými hodnotami a maximami/minimami, napr.: skewness_glucose (priemer 4.226, medián 0.376 a maximálna hodnota 68.1), capital-gain (priemer 1198.26, medián 0, max 99999), to isté skewness_oxygen, kurtosis_glucose, mean_oxygen a capital loss. Budeme musieť preto stanoviť nejaký rozsah, od ktorého budeme brať namerané hodnoty ako korektné a tie, ktoré budú mimo vylúčime ako outlierov.\n",
    "Ďalej sme si všimli, že pri atribúte hours-per-week sú niektoré velmi zvláštne hodnoty, ako napríklad 1 alebo 99 hodín odpracovaných týždenne, preto budeme tiež musieť stanovič nejaký rozsah."
   ]
  },
  {
   "cell_type": "code",
   "execution_count": null,
   "metadata": {
    "scrolled": true
   },
   "outputs": [],
   "source": [
    "dataO.describe(exclude=np.number)"
   ]
  },
  {
   "cell_type": "code",
   "execution_count": null,
   "metadata": {},
   "outputs": [],
   "source": [
    "dataO.info()"
   ]
  },
  {
   "cell_type": "code",
   "execution_count": null,
   "metadata": {},
   "outputs": [],
   "source": [
    "dataO.median()\n",
    "#dat prec kategorické"
   ]
  },
  {
   "cell_type": "code",
   "execution_count": null,
   "metadata": {},
   "outputs": [],
   "source": [
    "dataP.age.plot.hist(bins=30)"
   ]
  },
  {
   "cell_type": "code",
   "execution_count": null,
   "metadata": {},
   "outputs": [],
   "source": [
    "dataRelAge = dataP[(dataP['age']>0) & (dataP['age'] < 100)]\n",
    "dataIrelAge = dataP[(dataP['age']<0) | (dataP['age'] > 100)]"
   ]
  },
  {
   "cell_type": "code",
   "execution_count": null,
   "metadata": {
    "scrolled": true
   },
   "outputs": [],
   "source": [
    "dataRelAge.age.plot.hist(bins=30)"
   ]
  },
  {
   "cell_type": "code",
   "execution_count": null,
   "metadata": {
    "scrolled": true
   },
   "outputs": [],
   "source": [
    "dataIrelAge.age.plot.hist(bins = 30)"
   ]
  },
  {
   "cell_type": "markdown",
   "metadata": {},
   "source": [
    "Pre porovnanie vekov sme sa pre vizuálne zobrazenie rozhodli využiť histogram pretože box plot bol veľmi neprehladný. Ako môžeme vidieť aj outlieri majú +- normálne rozdelenie čo môže znamenať, že sa jednalo o skutočné dáta. Aj keď to mohol byť tento prípad, nevieme akým spôsobom boli upravené, preto ich aj tak vylúčime."
   ]
  },
  {
   "cell_type": "code",
   "execution_count": null,
   "metadata": {
    "scrolled": true
   },
   "outputs": [],
   "source": [
    "#co vsetko histogramovat z tychto dat? treba to nejako upravovat??\n",
    "dataO.hist(column = ['std_oxygen'], bins=30)\n",
    "dataO.hist(column = ['skewness_oxygen'], bins=30)\n",
    "dataO.hist(column = ['mean_oxygen'], bins=30)\n",
    "plt.show()"
   ]
  },
  {
   "cell_type": "code",
   "execution_count": null,
   "metadata": {
    "scrolled": true
   },
   "outputs": [],
   "source": [
    "boxplot = dataO.boxplot(column=['std_oxygen'])"
   ]
  },
  {
   "cell_type": "code",
   "execution_count": null,
   "metadata": {},
   "outputs": [],
   "source": [
    "boxplot = dataO.boxplot(column=['skewness_oxygen'])"
   ]
  },
  {
   "cell_type": "code",
   "execution_count": null,
   "metadata": {
    "scrolled": false
   },
   "outputs": [],
   "source": [
    "boxplot = dataO.boxplot(column=['mean_oxygen'])"
   ]
  },
  {
   "cell_type": "markdown",
   "metadata": {},
   "source": [
    "Tu sme si vykreslili grafy ku kyslíkovým meraniam. Zistili sme, že všetky majú gama rozdelenie. Pre porovnanie sme vykreslili aj box-ploty, v ktorých si vieme pozrieť outlierov. VZhladom na toto rozdelenie nevieme určite, ktorý z outlierov by sa mali vylúčiť. V neskoršej fáze bude možné upraviť gama na normálne rozdelenie a byť si istejší ohraničením."
   ]
  },
  {
   "cell_type": "code",
   "execution_count": null,
   "metadata": {
    "scrolled": true
   },
   "outputs": [],
   "source": [
    "dataO.hist(column = ['std_glucose'], bins=30)\n",
    "dataO.hist(column = ['skewness_glucose'], bins=30)\n",
    "dataO.hist(column = ['mean_glucose'], bins=30)\n",
    "dataO.hist(column = ['kurtosis_glucose'], bins=30)\n",
    "plt.show()"
   ]
  },
  {
   "cell_type": "code",
   "execution_count": null,
   "metadata": {},
   "outputs": [],
   "source": [
    "dataO.boxplot(column = ['std_glucose'])"
   ]
  },
  {
   "cell_type": "code",
   "execution_count": null,
   "metadata": {},
   "outputs": [],
   "source": [
    "dataO.boxplot(column = ['skewness_glucose'])"
   ]
  },
  {
   "cell_type": "code",
   "execution_count": null,
   "metadata": {},
   "outputs": [],
   "source": [
    "dataO.boxplot(column = ['mean_glucose'])"
   ]
  },
  {
   "cell_type": "code",
   "execution_count": null,
   "metadata": {
    "scrolled": true
   },
   "outputs": [],
   "source": [
    "dataO.boxplot(column = ['kurtosis_glucose'])"
   ]
  },
  {
   "cell_type": "markdown",
   "metadata": {},
   "source": [
    "Rovnako ako pri kyslíku sme sa rozhodli v neskoršej fáze upraviť rozdelenia na normálne pre lepšie oddelenie dát, ktoré budeme chcieť použiť od dát, ktoré nie.\n",
    "Chceli sme spraviť aj histogramové + plotboxové porovnanie pre capital-loss, capital-gain a fnlwgt pretože vyzerali, že by spolu mohli súvisieť. Neboli sme si však istý či spolu súvisia kedže sa v niektorých prípadoch objavovali hodnoty aj v loss a zároveň v gain, preto sme sa rozhodli zatial to nechať tak."
   ]
  },
  {
   "cell_type": "code",
   "execution_count": null,
   "metadata": {
    "scrolled": true
   },
   "outputs": [],
   "source": [
    "#STATISTIKA - KATEGORICKE ATRIBUTY\n",
    "#doplnanie dat? vysoke veky ale je datum narodenia doplnit z toho???????????\n",
    "# pokial chceme spravit napr class - ma to problem s tým ze je to cislo, ako to obísť??\n",
    "plt.figure(figsize = (20,8))\n",
    "sns.countplot(y = 'occupation', data = dataO)\n",
    "plt.show()"
   ]
  },
  {
   "cell_type": "code",
   "execution_count": null,
   "metadata": {},
   "outputs": [],
   "source": [
    "sns.countplot(x = 'pregnant', data = dataO)"
   ]
  },
  {
   "cell_type": "code",
   "execution_count": null,
   "metadata": {
    "scrolled": true
   },
   "outputs": [],
   "source": [
    "plt.figure(figsize = (20,8))\n",
    "sns.countplot(y = 'education-num', data = dataO)\n",
    "plt.show()"
   ]
  },
  {
   "cell_type": "code",
   "execution_count": null,
   "metadata": {
    "scrolled": true
   },
   "outputs": [],
   "source": [
    "sns.countplot(x = 'class', data = dataO)"
   ]
  },
  {
   "cell_type": "code",
   "execution_count": null,
   "metadata": {
    "scrolled": true
   },
   "outputs": [],
   "source": [
    "sns.countplot(x = 'income', data = dataO)"
   ]
  },
  {
   "cell_type": "code",
   "execution_count": null,
   "metadata": {
    "scrolled": false
   },
   "outputs": [],
   "source": [
    "sns.countplot(y = 'workclass', data = dataO)"
   ]
  },
  {
   "cell_type": "code",
   "execution_count": null,
   "metadata": {
    "scrolled": true
   },
   "outputs": [],
   "source": [
    "sns.countplot(y = 'ethn', data = dataO)"
   ]
  },
  {
   "cell_type": "code",
   "execution_count": null,
   "metadata": {
    "scrolled": true
   },
   "outputs": [],
   "source": [
    "plt.figure(figsize = (20,8))\n",
    "sns.countplot(y = 'state', data = dataO)\n",
    "plt.show()"
   ]
  },
  {
   "cell_type": "code",
   "execution_count": null,
   "metadata": {
    "scrolled": true
   },
   "outputs": [],
   "source": [
    "sns.countplot(y = 'edu', data = dataO)"
   ]
  },
  {
   "cell_type": "code",
   "execution_count": null,
   "metadata": {
    "scrolled": true
   },
   "outputs": [],
   "source": [
    "sns.countplot(y = 'status', data = dataO)"
   ]
  },
  {
   "cell_type": "code",
   "execution_count": null,
   "metadata": {
    "scrolled": true
   },
   "outputs": [],
   "source": [
    "sns.countplot(y = 'fam_memb', data = dataO)"
   ]
  },
  {
   "cell_type": "markdown",
   "metadata": {},
   "source": [
    "Z histogramov pre kategorické atribúty sme si všimli, že sa v dátach nachádzaju dva typy pre nevyplnenu hodnotu  - ? a nan, ktoré bude treba zmeniť na jednotnú hodnotu.\n",
    "Ďalej bude treba upraviť dáta s rovnakým významom ale rozdielným zápisom v atribúte pregnant kde sa nachádza viacero tvarov false a true."
   ]
  },
  {
   "cell_type": "markdown",
   "metadata": {},
   "source": [
    "<h1>Párová analýza</h1>"
   ]
  },
  {
   "cell_type": "code",
   "execution_count": null,
   "metadata": {
    "scrolled": false
   },
   "outputs": [],
   "source": [
    "dataO = dataO.replace({'class': {'0.0': 'f', '1.0': 't'}})\n",
    "sns.pairplot(dataO.dropna(), hue = 'class')\n",
    "plt.show()"
   ]
  },
  {
   "cell_type": "code",
   "execution_count": null,
   "metadata": {
    "scrolled": false
   },
   "outputs": [],
   "source": [
    "plt.figure(figsize = (25,10))\n",
    "sns.heatmap(dataO.corr(), annot = True, fmt = '.3f')\n",
    "plt.show()"
   ]
  },
  {
   "cell_type": "markdown",
   "metadata": {},
   "source": [
    "Cez heat map sme zistili atribúty, ktoré nesúvisia so žiadnymi s iných a rozhodli sme sa ich preto nevyužívať. Tieto atribúty sú : capital-gain, capital-loss, hours-per-week, fnlwgt."
   ]
  },
  {
   "cell_type": "markdown",
   "metadata": {},
   "source": [
    "Najvyššia pozitívna korelácia je medzi skewness_glucose a kurtosis_glucose 0.962 "
   ]
  },
  {
   "cell_type": "code",
   "execution_count": null,
   "metadata": {},
   "outputs": [],
   "source": [
    "sns.lmplot(x=\"skewness_glucose\", y=\"kurtosis_glucose\",  hue = \"class\",markers=[\"o\", \"x\"], data=dataO.dropna())\n",
    "plt.show()"
   ]
  },
  {
   "cell_type": "markdown",
   "metadata": {},
   "source": [
    "Ako možeme vidieť z grafu zavislosť medzi týmito atribútmi je skoro lineárna aj keď pri pacientoch bez cukrovky je trochu rozptýlená takže je možne, že sa tam nachádzajú nejakí outlieri.\n",
    "Najvyššia pozitívna korelácia medzi atribútmi kyslika a glukózy je medzi std_oxygen a kurtosis_glucose 0.618"
   ]
  },
  {
   "cell_type": "code",
   "execution_count": null,
   "metadata": {},
   "outputs": [],
   "source": [
    "sns.lmplot(x=\"std_oxygen\", y=\"kurtosis_glucose\",  hue = \"class\",markers=[\"o\", \"x\"], data=dataO.dropna())\n",
    "plt.show()"
   ]
  },
  {
   "cell_type": "markdown",
   "metadata": {},
   "source": [
    "Na tomto grafe vidno, že pri pacientoch s cukrovkou závislosť je, ale pri pacientoch bez cukrvky sa hodnota kurtosis_glucose takmer nemení. Najvyššia negatívna korelácia je medzi mean_glucose a kurtosis_glucose -0.925"
   ]
  },
  {
   "cell_type": "code",
   "execution_count": null,
   "metadata": {},
   "outputs": [],
   "source": [
    "sns.lmplot(x=\"mean_glucose\", y=\"kurtosis_glucose\",  hue = \"class\",markers=[\"o\", \"x\"], data=dataO.dropna())\n",
    "plt.show()"
   ]
  },
  {
   "cell_type": "markdown",
   "metadata": {},
   "source": [
    "Z tohto grafu je tiež zjavne, že korelácia sa líši u pacientov s cukrovkou. Najvyššia negatívna korelácia medzi atribútmi kyslika a glukózy je medzi std_oxygen a mean_glucose 0.618"
   ]
  },
  {
   "cell_type": "code",
   "execution_count": null,
   "metadata": {},
   "outputs": [],
   "source": [
    "sns.lmplot(x=\"mean_glucose\", y=\"std_oxygen\",  hue = \"class\",markers=[\"o\", \"x\"], data=dataO.dropna())\n",
    "plt.show()"
   ]
  },
  {
   "cell_type": "markdown",
   "metadata": {},
   "source": [
    "Tento graf nám dokonca ukazuje, že závislosť týchto hodnôt u cukrovkárov a necukrovkárov nie je len odlišná ale dokonca opačná."
   ]
  },
  {
   "cell_type": "markdown",
   "metadata": {},
   "source": [
    "Podľa tabuľky pairplot na začiatku tejto časti anlýzy sme vybrali aj niektoré atribúty, pri ktorých najviac vidno, že ich hodnota je odlišna pre cukrovkárov a necukrovkárov."
   ]
  },
  {
   "cell_type": "code",
   "execution_count": null,
   "metadata": {},
   "outputs": [],
   "source": [
    "sns.boxplot('class', 'skewness_glucose', data=dataO.dropna())"
   ]
  },
  {
   "cell_type": "code",
   "execution_count": null,
   "metadata": {
    "scrolled": true
   },
   "outputs": [],
   "source": [
    "sns.boxplot('class', 'kurtosis_glucose', data=dataO.dropna())"
   ]
  },
  {
   "cell_type": "code",
   "execution_count": null,
   "metadata": {},
   "outputs": [],
   "source": [
    "sns.boxplot('class', 'skewness_oxygen', data=dataO.dropna())"
   ]
  },
  {
   "cell_type": "markdown",
   "metadata": {},
   "source": [
    "<h1>Formulácia a štatistické overenie hypotéz o dátach</h1>\n",
    "Hypotéza 1: Rozdiel medzi hodnotami skewness_glucose u cukrovkárov a necukrovkárov je signifikantný.\n",
    "Hypotéza 2: Rozdiel medzi hodnotami kurtosis_glucose u cukrovkárov a necukrovkárov je signifikantný."
   ]
  },
  {
   "cell_type": "markdown",
   "metadata": {},
   "source": [
    "To, že nejaký rozdiel tam je, vidíme aj na základe vizuálneho porovnania grafov v závere predchádzajúcej časti analýzy. Ak chceme overiť, či je signifikantný, potrebujeme použiť štatistický test."
   ]
  },
  {
   "cell_type": "markdown",
   "metadata": {},
   "source": [
    " Vzťah medzi nimi je nezávislý (pacien vždy buď má alebo nemá cukrovku). Do úvahy teda pripadá t-test alebo Mann-Whitenyho U test. Overenie predpokladov t-testu:"
   ]
  },
  {
   "cell_type": "code",
   "execution_count": null,
   "metadata": {},
   "outputs": [],
   "source": [
    "diabet = dataO.loc[dataO['class'] == 't', 'skewness_glucose']\n",
    "diabet = diabet.dropna()\n",
    "diabet.describe()"
   ]
  },
  {
   "cell_type": "code",
   "execution_count": null,
   "metadata": {},
   "outputs": [],
   "source": [
    "sns.distplot(diabet)"
   ]
  },
  {
   "cell_type": "code",
   "execution_count": null,
   "metadata": {},
   "outputs": [],
   "source": [
    "def identify_outliers(a):\n",
    "    lower = a.quantile(0.25) - 1.5 * stats.iqr(a)\n",
    "    upper = a.quantile(0.75) + 1.5 * stats.iqr(a)\n",
    "    \n",
    "    return a[(a > upper) | (a < lower)]"
   ]
  },
  {
   "cell_type": "code",
   "execution_count": null,
   "metadata": {},
   "outputs": [],
   "source": [
    "diabetOut = identify_outliers(diabet)\n",
    "diabetOut"
   ]
  },
  {
   "cell_type": "code",
   "execution_count": null,
   "metadata": {},
   "outputs": [],
   "source": [
    "diabet = diabet.drop(diabetOut.index)\n",
    "sns.distplot(diabet)"
   ]
  },
  {
   "cell_type": "markdown",
   "metadata": {},
   "source": [
    "Toto rozdelenie nevyzerá ako normálne rozdelenie. Ale ešte si to musíme overiť Shapiro-Wilkovým testom normálnosti."
   ]
  },
  {
   "cell_type": "code",
   "execution_count": null,
   "metadata": {},
   "outputs": [],
   "source": [
    "stats.shapiro(diabet)"
   ]
  },
  {
   "cell_type": "markdown",
   "metadata": {},
   "source": [
    "Keďže hodnota p je oveľa menšia ako 0.05 tak to určite nie je normálne rozdelenie."
   ]
  },
  {
   "cell_type": "code",
   "execution_count": null,
   "metadata": {},
   "outputs": [],
   "source": [
    "notDiabet = dataO.loc[dataO['class'] == 'f', 'skewness_glucose']\n",
    "notDiabet = diabet.dropna()\n",
    "sns.distplot(notDiabet)"
   ]
  },
  {
   "cell_type": "code",
   "execution_count": null,
   "metadata": {},
   "outputs": [],
   "source": [
    "notDiabetOut = identify_outliers(diabet)\n",
    "notDiabetOut"
   ]
  },
  {
   "cell_type": "code",
   "execution_count": null,
   "metadata": {},
   "outputs": [],
   "source": [
    "stats.mannwhitneyu(diabet, notDiabet)"
   ]
  },
  {
   "cell_type": "markdown",
   "metadata": {},
   "source": [
    "Keďže  p>0,001 , pravdepodobnosť chyby 1. rádu (že nulová hypotéza je pravdivá, a my ju nezamietame) je viac ako 1 promile. Nevieme povedať, že rozdiel medzi hodnotami skewness_glucose u cukrovkárov a necukrovkárov je signifikantný."
   ]
  }
 ],
 "metadata": {
  "kernelspec": {
   "display_name": "Python 3",
   "language": "python",
   "name": "python3"
  },
  "language_info": {
   "codemirror_mode": {
    "name": "ipython",
    "version": 3
   },
   "file_extension": ".py",
   "mimetype": "text/x-python",
   "name": "python",
   "nbconvert_exporter": "python",
   "pygments_lexer": "ipython3",
   "version": "3.6.5"
  }
 },
 "nbformat": 4,
 "nbformat_minor": 2
}
